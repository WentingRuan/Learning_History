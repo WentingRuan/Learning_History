{
 "cells": [
  {
   "cell_type": "markdown",
   "metadata": {},
   "source": [
    "# The mystery of Light\n",
    "\n",
    "## Intro\n",
    "\n",
    "BBC video The reason of Light has four episodes, introducing the history of discovering light, analyzing light and manipulating light. "
   ]
  },
  {
   "cell_type": "markdown",
   "metadata": {},
   "source": [
    "## Episode 1 - Let there be light\n",
    "\n",
    "God said：Let there be light, and there was light.\n",
    "\n",
    "Greece philosophers were the first who began to question the nature of light and how we see.\n",
    "\n",
    "The first comprehensive theory of light and vision is attributed to a wealthy scholar who grew up in the shadow of moutain Eta, volcano, on the island of Sicily. His name was **Empedocles** and he lived **2500 years ago**. He put forward the extrodinary idea that we see objects because light streams out of our eyes and touches them and it makes an enormous amount of sense that modelly something like a lighthouse. I am seeing things because something streams from my eyes towards them and as my gaze touches them, they come into view. His idea became the fundamental basis on which later Greek mathematicians and philosophers will construct some of the most important theories we have about light, vision and optics.\n",
    "\n",
    "Among them was the renowned mathematician, **Euclid**. Euclid made the single most important breakthrough in the understanding of light. He tried to figure out why do objects looks further away seems so small in comparison with objects near our eye. Euclid came up with an elegant solution: the eye, the top of the nearer object, and the top of the further object must lie on the same line, and for that to be true, the rays from the eye must follow the straight lines. It's the first time that light can be explained and predicted by mathematics. The geometry of straight lines in triangles can completely master problems of light, and vision out there in the world.\n",
    "\n",
    "\n",
    "The theory of Empedocles and Euclid had influenced as far as in the India. The Greek culture and learning dominated the known world. But nothing lasts forever. Conquered from North Africa, much of the teaching of the ancient scholars was lost. At then, Sicily fell under Islamic rule. Most of what survied of that great Greek optical theories was transmitteed to the West through the scholars of Islam at **the end of 7th century**.\n",
    "\n",
    "One of the founders of modern optical doctrine is a great Muslim scholar. His name was **Abin Al haitan**, or as he became known in the west, **Al-hazan**. AI-hazan would make one of the most significant discoveries in history about how light and vision worked.\n",
    "\n",
    "The Cairo empire, Caliph, hired Al-hazan as an employer and ordered him to stop the flooding of the river Nile. Al-hazan failed to do that and ended up in prison for 12 years. During the prison, he found that sitting in the darkness, and then looking suddenly at the sun, his eyes really hurt. It seemed improbable to Al-Hzan that if rays were indeed emitted by the eye that they shouldn't cause him such pain. He came up with the idea that we see because there were rays, travelling through spaces in straight lines, towards our eyes. He had overturned more than 1000 years of accepted dogma. But If the light is independent of the eye, how do objects redirect the light into our eye when we see them? Al-hazan got a clue in the way mirrors work. Mirrors obviously reflect light and by studing those patterns of reflection very closely, he confirmed the idea that angle at which a ray hits the mirror is the same as the angle at which it ts reflected, these are symmetric. \n",
    "\n",
    "So there is a relationship between the ideas of light ray is straight line and its fundamental understanding of the basic geometry of the law of reflection. Al-hazam has the genius to realize that light counces like a ball off all objects, not just mirrors. He workd out the precise mathematical laws of light's most important properties: reflection and refraction. Laws on which everything depends, from spectacles to space telescopes. His 7 volume work became the fundamental text on light and vision, insights wich made the entire modern science of optics possible.\n",
    "\n",
    "Light was leaving the abstract world and entering the real one, because of Al-hazan's research.\n",
    "\n",
    "Within 2 centuries of AL-hazan's death, millitant Christianity moblized against Islam in the Mediterranean. The Holy Catholic Church, determined to demonstrate its divine authority, seized on the work of the great Islamic scholars, and used Al-hazan's breakthrough to further a Christian knowledge of light.\n",
    "\n",
    "**In 1000~1200 AD**, the translation of these texts by scholars from Arabic into Latin, their transmission to new schools and universities of Western Europe, would produce a revolution of learning, a completely new approach to the study of nature.\n",
    "\n",
    "**Roger Bacon**, a 13th century Franciscan friar, for the first time really studied the work of Al-hazan. Bacon learned from Al-hazan, the structure of the eye, how light and vision happen, the way light bends, and began to study the effect of glass on light, on colors. By thinking hard of the new glass technologies of the 13th century, Bacon made the most extraordinary breakthrough. He began to see the ways in which curved glasses could change the figure, the shape and the size of objects that we looked at. Bacon wrote down accounts of new fangled spectacles, of bits of curved glass which made distant objects appear very near,  which made tiny objects vast, which could put color images into sky. The new fangled spectacles that would correct the problems of vision. Bacon was enchanted by these things.\n",
    "\n",
    "Bacon didn't just observe and think in some vague way about how light behave in the world at large. He brought it into the workshop and experimented it on isolated aspects of light's behavior. He watched how it distorted through water and glass,\n",
    "and he noticed how, in the sunlight, droplets of water seem to produce the same colors as the ones he saw in ranbows.\n",
    "\n",
    "Towards the ends of the book of Genesis, Christians learned that after the great flood wichi destroyed all but a few selected faithful, God put into the heaven a mark of his covenant that he would never again visit destruction upon them. Bacon was driven to explain the rainbow, using logiv and reason, and he could make rainbows experimentally here on earth, swallowing a mouthful of water and then splitting it out in an arc through a beam of sunlight, he was reproducing colors which you could see in heaven. It dawned on Roger Bacon that God's miraculous rainbow must obey rules, similar to the mathematical laws of reflection Al-hazan had discovered. He explained a miracle through nature causes( He dared to explain the wonders of creation using natural principles alone) and it led him to be prisioned for 20 years.\n",
    "\n",
    "Chaos, madness, disorder are the enemy of those in power. Getting the time right, imposing rules and system on everyday life, for the Catholic Church, control of the calendar, the rituals of the year was the most important outward invisible sign of its control, of its legitimacy, of its inspiration from God, and it would turn out that the technical mastery of light would solved the Church's problem of imposing order on a fallen, chaotic, and disorderly world. The Church was pretested by millions for they could not **ascertain the exact timing of Easter**. Easter was the moment when all believers marked the extraordinary moment when world was plunged into darkness because of the death of the son of the God and his miraculous resurrection into light. This was the basis of faith. Now Eater's date has been set by the Church as happening on the first Sunday after the first full moon of the spring. Without a precise system of calculating future spring equinoxes, which delayed celebrating Easter for weeks. This inability was becomming visible evidence of the church's weakness.From the 1500 on, great chuiches were turned into a time-and-light machines.\n",
    "\n",
    "Here is how you can turn a church into a solar clock. The idea is that you draw a hole, high in the wall of the church. That hole will let through sunlight when the sun is passing overhead at noon. The image of the hole then falls like a bright dot on a long brass rod aligned north and south on the floor of the church. The most cared area that defines whether sun is on the day of the spring equinox, the moment when the length of the daylight and the length of night are identical. The position that the calculation of Easter relied is the limit of Easter, Terminvs Paschae.\n",
    "\n",
    "The new theory in astrononmy that the earth is not the center of the world would call the church into question and threaten its scripture in divine authority. The church needed to show that what did it said was true, it needed an intellect who was also a defender of the faith. The church found **Rene Descarteds**, the second son of a wealthy landed family from central France, who thought all there was in the world waws just machinery including our own bodies. God, he said, was the ultimate clock maker, Descartes liken the universe to a giant machine created and set in motion by God and obeying a set of predictable rules. Light, he thought, could be completely understood through mechanics. He considered everything as machines and the best way to analyze them is to cut them open, to make the flesh and blood speak. It was the first real demonstration that the eye produce an inverted image on the retina. But we don't see things invertedly because the nerve system correct it for us through wires in brain so we actually get the world upright in the way. Descartes's experiment through cow's eyes is a breakthrough. He had shown how the shape of the lens(晶状体) would change depending on how far away objects were. That made the eye an ideal mechanical system, acted exactly like a glass lens thus proved his idea. With that proof, Descartes could awnser the most difficult question of the light and explain the mystery of color. He thought light was spinning particles and color appeared when white light particles spun faster or slower. So the key to Descartes theory was that white light was pure and colors was  merely a temporary distortion of white light. A mechanical universe built by an orderly systematic God was exactly what Rome needed to reassert its claim that the Catholic Church alone truely understood the workings of the universe.\n",
    "\n",
    "Standing against Descartes was man like **Issac Newton** who saw Descartes as alien, French, Catholic, rationalist and authoritarian and above all, Descartes was wrong about light. Light meant everything to Issac Newton. He thought of it as an almost divine principle, he thought that the world have been made by a single, wise, omnipoteng, clever, mathematical God, a God really resembleed himself. Quotes from him, there is a being, who made all things, who has all things in his power and who is therefore, to be feared. Investigating light and color, in his thought, is peeling deep into the mysteries of God's creation. Newton's first thoughts about light and color were prompted by an extraordinary degree of self examnination. It is though he turned his attention inwards, into his own mind. He starred at sun by hours, shut himself in a dark room and by will alone tried to summon up the image of the sun. These experiments got much more dramatic. He wanted to see if there was a difference between the images wee see because of pressure, something pushing on our eyes and the images we see when we simply think or dream. He took a wooden needle, put it between his eyeball and the bone, and push. He got colored circles appearing just above the focus of your eye and the colored circles followed the order of the colors of the rainbow. He was driven to see if there is a way of making the optical phenomennon, that appeared inside our own eyes as in our minds, appear in the outside world so the others could see them. With prims and lenses and mirrorr, Newton recon everyone could do just that. Newton would design a series of experiments on whose replicability that whole status of his new theory of light depended. He made a very tiny hole in the windows shutters allowing a beam of sunlight to fall on the opposite wall and then he intercepted the sunbeam with a prism. He positioned the prism very carefully so that the angle at which the sunlight hits the prism was the same as the angle at which they left. He made an artificial rainbow. He saw red, orange, yellow, green, blue, indigo and violet. And he invented a word for the sun's image of colors, spectrum. For the first time, Newton had precisely measured the colors in a ray of sunlight, spectrum which would extend to X-rays, radio waves, ultra-violet, and infra-red. It would even reveal what stars themselves are made of.\n",
    "\n",
    "His famous word is, as quoted, What I proposed was not to explain the properties of light by hypothesis, but to prove them by reason out of experiments.\n",
    "\n",
    "The most important of Newton's experiments was what came to be called \"the crucial experiment\" \"experiments of crusce\". He found a way to prove Descarts's calim was wrong. He drilled a hole in the screen and allow just the red part of the spectrum to pass through. He let the beam of red light to pass a second prism, if the red light turned into other color then Descartes was right else Newton was right. It shows that prisms don't change the colors of light but analyze them. If the red light is primitive, pure and simple, it can't be analyzed any further when it passes through the second prism. So this simultaneouly suggested that white light really is a mixture of 7 different colors.\n",
    "\n",
    "From then, the nature of light is beyond question.\n",
    "\n",
    "Newton's dogged insistence that any explanation had to be grounded on strict experimental observation heralded the dawn of enlightment that result ultimately spawned the modern scientific world view.\n"
   ]
  },
  {
   "cell_type": "code",
   "execution_count": null,
   "metadata": {},
   "outputs": [],
   "source": []
  }
 ],
 "metadata": {
  "kernelspec": {
   "display_name": "Python 3",
   "language": "python",
   "name": "python3"
  },
  "language_info": {
   "codemirror_mode": {
    "name": "ipython",
    "version": 3
   },
   "file_extension": ".py",
   "mimetype": "text/x-python",
   "name": "python",
   "nbconvert_exporter": "python",
   "pygments_lexer": "ipython3",
   "version": "3.6.5"
  }
 },
 "nbformat": 4,
 "nbformat_minor": 2
}
