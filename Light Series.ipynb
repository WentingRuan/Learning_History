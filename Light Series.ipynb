{
 "cells": [
  {
   "cell_type": "markdown",
   "metadata": {},
   "source": [
    "# The reason of Light\n",
    "\n",
    "## Intro\n",
    "\n",
    "BBC video The reason of Light has four episodes, introducing the history of discovering light, analyzing light and manipulating light. "
   ]
  },
  {
   "cell_type": "markdown",
   "metadata": {},
   "source": [
    "## Episode 1\n",
    "\n",
    "God said：Let there be light, and there was light.\n",
    "\n",
    "Greece philosophers were the first who began to question the nature of light and how we see.\n",
    "\n",
    "The first comprehensive theory of light and vision is attributed to a wealthy scholar who grew up in the shadow of moutain Eta, volcano, on the island of Sicily. His name was **Empedocles** and he lived **2500 years ago**. He put forward the extrodinary idea that we see objects because light streams out of our eyes and touches them and it makes an enormous amount of sense that modelly something like a lighthouse. I am seeing things because something streams from my eyes towards them and as my gaze touches them, they come into view. His idea became the fundamental basis on which later Greek mathematicians and philosophers will construct some of the most important theories we have about light, vision and optics.\n",
    "\n",
    "Among them was the renowned mathematician, **Euclid**. Euclid made the single most important breakthrough in the understanding of light. He tried to figure out why do objects looks further away seems so small in comparison with objects near our eye. Euclid came up with an elegant solution: the eye, the top of the nearer object, and the top of the further object must lie on the same line, and for that to be true, the rays from the eye must follow the straight lines. It's the first time that light can be explained and predicted by mathematics. The geometry of straight lines in triangles can completely master problems of light, and vision out there in the world.\n",
    "\n",
    "\n",
    "The theory of Empedocles and Euclid had influenced as far as in the India. The Greek culture and learning dominated the known world. But nothing lasts forever. Conquered from North Africa, much of the teaching of the ancient scholars was lost. At then, Sicily fell under Islamic rule. Most of what survied of that great Greek optical theories was transmitteed to the West through the scholars of Islam at **the end of 7th century**.\n",
    "\n",
    "One of the founders of modern optical doctrine is a great Muslim scholar. His name was **Abin Al haitan**, or as he became known in the west, **Al-hazan**. AI-hazan would make one of the most significant discoveries in history about how light and vision worked.\n",
    "\n",
    "The Cairo empire, Caliph, hired Al-hazan as an employer and ordered him to stop the flooding of the river Nile. Al-hazan failed to do that and ended up in prison for 12 years. During the prison, he found that sitting in the darkness, and then looking suddenly at the sun, his eyes really hurt. It seemed improbable to Al-Hzan that if rays were indeed emitted by the eye that they shouldn't cause him such pain. He came up with the idea that we see because there were rays, travelling through spaces in straight lines, towards our eyes. He had overturned more than 1000 years of accepted dogma. But If the light is independent of the eye, how do objects redirect the light into our eye when we see them? Al-hazan got a clue in the way mirrors work. Mirrors obviously reflect light and by studing those patterns of reflection very closely, he confirmed the idea that angle at which a ray hits the mirror is the same as the angle at which it ts reflected, these are symmetric. \n",
    "\n",
    "So there is a relationship between the ideas of light ray is straight line and its fundamental understanding of the basic geometry of the law of reflection. Al-hazam has the genius to realize that light counces like a ball off all objects, not just mirrors. He workd out the precise mathematical laws of light's most important properties: reflection and refraction. Laws on which everything depends, from spectacles to space telescopes. His 7 volume work became the fundamental text on light and vision, insights wich made the entire modern science of optics possible.\n",
    "\n",
    "Light was leaving the abstract world and entering the real one, because of Al-hazan's research.\n",
    "\n",
    "Within 2 centuries of AL-hazan's death, millitant Christianity moblized against Islam in the Mediterranean. The Holy Catholic Church, determined to demonstrate its divine authority, seized on the work of the great Islamic scholars, and used Al-hazan's breakthrough to further a Christian knowledge of light.\n",
    "\n",
    "**In 1000~1200 AD**, the translation of these texts by scholars from Arabic into Latin, their transmission to new schools and universities of Western Europe, would produce a revolution of learning, a completely new approach to the study of nature.\n",
    "\n",
    "**Roger Bacon**, a 13th century Franciscan friar, for the first time really studied the work of Al-hazan. Bacon learned from Al-hazan, the structure of the eye, how light and vision happen, the way light bends, and began to study the effect of glass on light, on colors. By thinking hard of the new glass technologies of the 13th century, Bacon made the most extraordinary breakthrough. He began to see the ways in which curved glasses could change the figure, the shape and the size of objects that we looked at. Bacon wrote down accounts of new fangled spectacles, of bits of curved glass which made distant objects appear very near,  which made tiny objects vast, which could put color images into sky. The new fangled spectacles that would correct the problems of vision. Bacon was enchanted by these things.\n",
    "\n",
    "Bacon didn't just observe and think in some vague way about how light behave in the world at large. He brought it into the workshop and experimented it on isolated aspects of light's behavior.\n",
    "\n",
    "\n",
    "\n",
    "\n",
    "\n",
    " "
   ]
  },
  {
   "cell_type": "code",
   "execution_count": null,
   "metadata": {},
   "outputs": [],
   "source": []
  }
 ],
 "metadata": {
  "kernelspec": {
   "display_name": "Python 3",
   "language": "python",
   "name": "python3"
  },
  "language_info": {
   "codemirror_mode": {
    "name": "ipython",
    "version": 3
   },
   "file_extension": ".py",
   "mimetype": "text/x-python",
   "name": "python",
   "nbconvert_exporter": "python",
   "pygments_lexer": "ipython3",
   "version": "3.6.5"
  }
 },
 "nbformat": 4,
 "nbformat_minor": 2
}
