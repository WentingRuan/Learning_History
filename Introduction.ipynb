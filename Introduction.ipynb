{
 "cells": [
  {
   "cell_type": "markdown",
   "metadata": {},
   "source": [
    "# A child's history of the world"
   ]
  },
  {
   "cell_type": "markdown",
   "metadata": {},
   "source": [
    "## Introduction"
   ]
  },
  {
   "cell_type": "markdown",
   "metadata": {},
   "source": [
    "This book is for \"nine years old children\", so the gphraseology of the text is easy to comprehend.\n",
    "\n",
    "The writter of this book wrote this introduction for the parents of children to tell the importance of learning a knowledge of other countries and other people in order that their attitude may be intelligent and unprejudiced.\n",
    "\n",
    "This book is, therefore, a basal history study.The object is to sketch the whole picture in outline, leaving the detials to be gradually filled in by later study\n",
    "\n",
    "The aim should be to have the reader able to start with Primitive Man and give a summary of World History to the present time, with dates and chiefs without prompting, questioning, hesitation, or mistake, For example \"King John in 1215 at Runnymede because....\" instead of \"A man, once upon a time ...\".\n",
    "\n",
    "History may be made just as much a \"mental discipline(心智训练)\" as some other studies, but only if difficulties of dates and other abstractions are squarely met and overcome by hard study and learned to be remembered, not merely to be forgotten after the recitation.\n",
    "\n",
    "Any student who read the book should be required to retell each story after he has read it and should be repeatedly questioned on names and dates as well as stories, to make sure he is retaining and assimilating what he hears.\n",
    "\n",
    "**Tips:**\n",
    "\n",
    "**Make a permanent possesion of Time Table in memory**\n",
    "\n",
    "**Picutre stories according to the Time Table(Dates, names, places)**\n"
   ]
  },
  {
   "cell_type": "code",
   "execution_count": null,
   "metadata": {},
   "outputs": [],
   "source": []
  }
 ],
 "metadata": {
  "kernelspec": {
   "display_name": "Python 3",
   "language": "python",
   "name": "python3"
  },
  "language_info": {
   "codemirror_mode": {
    "name": "ipython",
    "version": 3
   },
   "file_extension": ".py",
   "mimetype": "text/x-python",
   "name": "python",
   "nbconvert_exporter": "python",
   "pygments_lexer": "ipython3",
   "version": "3.6.4"
  }
 },
 "nbformat": 4,
 "nbformat_minor": 2
}
